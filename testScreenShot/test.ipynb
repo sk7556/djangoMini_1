{
 "cells": [
  {
   "cell_type": "code",
   "execution_count": 1,
   "metadata": {},
   "outputs": [
    {
     "name": "stdout",
     "output_type": "stream",
     "text": [
      "스크린샷이 screenshot.png에 저장되었습니다.\n"
     ]
    }
   ],
   "source": [
    "from selenium import webdriver\n",
    "import time\n",
    "from selenium.webdriver.common.by import By\n",
    "\n",
    "# url = \"https://www.youtube.com/watch?v=6Y60IR-kj-A\"\n",
    "\n",
    "def take_screenshot(url, screenshot_time, output_image_path=\"screenshot.png\"):\n",
    "    # 웹 드라이버 설정 (예: Chrome)\n",
    "    driver = webdriver.Chrome()\n",
    "\n",
    "    try:\n",
    "        # 유튜브 영상 페이지 열기\n",
    "        driver.get(url)\n",
    "        \n",
    "        # 유튜브 영상이 로드될 때까지 기다리기 (조정이 필요할 수 있음)\n",
    "        time.sleep(5)\n",
    "\n",
    "        # 영상 재생 버튼 클릭 (영상에 따라 다를 수 있음)\n",
    "        video_player = driver.find_element(By.CSS_SELECTOR, 'video')\n",
    "        # 동영상 플레이어의 스크린샷 찍기\n",
    "        video_player.screenshot(output_image_path)\n",
    "\n",
    "        print(f\"스크린샷이 {output_image_path}에 저장되었습니다.\")\n",
    "\n",
    "    finally:\n",
    "        # 웹 드라이버 닫기\n",
    "        driver.quit()\n",
    "\n",
    "if __name__ == \"__main__\":\n",
    "    url = input(\"유튜브 영상 URL을 입력해주세요: \")\n",
    "    screenshot_time = int(input(\"스크린샷을 찍을 시간 (초)을 입력해주세요: \"))\n",
    "    take_screenshot(url, screenshot_time)"
   ]
  },
  {
   "cell_type": "markdown",
   "metadata": {},
   "source": [
    "대충 위의 방식으로 뭔가 진행되면 되는 것이다... css selector로 현재 재생되고 있는 영상의 시간과 이미지를 저장할 수 있다. \n"
   ]
  },
  {
   "cell_type": "code",
   "execution_count": null,
   "metadata": {},
   "outputs": [],
   "source": []
  }
 ],
 "metadata": {
  "kernelspec": {
   "display_name": "venv",
   "language": "python",
   "name": "python3"
  },
  "language_info": {
   "codemirror_mode": {
    "name": "ipython",
    "version": 3
   },
   "file_extension": ".py",
   "mimetype": "text/x-python",
   "name": "python",
   "nbconvert_exporter": "python",
   "pygments_lexer": "ipython3",
   "version": "3.10.5"
  }
 },
 "nbformat": 4,
 "nbformat_minor": 2
}
